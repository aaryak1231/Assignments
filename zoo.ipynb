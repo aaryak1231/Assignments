{
 "cells": [
  {
   "cell_type": "code",
   "execution_count": 5,
   "id": "bbdeaa23-2e73-4b6d-8879-d00db7847f8f",
   "metadata": {},
   "outputs": [],
   "source": [
    "#11.1\n",
    "\n",
    "def hours():\n",
    "    print(\"Open 9-5 daily\")\n"
   ]
  },
  {
   "cell_type": "code",
   "execution_count": 7,
   "id": "34a596c5-d178-4291-815c-f97e02f3a731",
   "metadata": {},
   "outputs": [
    {
     "name": "stdout",
     "output_type": "stream",
     "text": [
      "Open 9-5 daily\n"
     ]
    }
   ],
   "source": [
    "import zoo\n",
    "zoo.hours()"
   ]
  },
  {
   "cell_type": "code",
   "execution_count": 10,
   "id": "591cd028-8302-49b5-b511-95a6dbce17e2",
   "metadata": {},
   "outputs": [],
   "source": [
    "#11.2 importing zoo module as menagerie\n",
    "\n",
    "def hours():\n",
    "    print(\"Open 9-5 daily\")"
   ]
  },
  {
   "cell_type": "code",
   "execution_count": 9,
   "id": "9dc86bb7-5a79-48e2-8e4d-17ffd67a3afb",
   "metadata": {},
   "outputs": [
    {
     "name": "stdout",
     "output_type": "stream",
     "text": [
      "Open 9-5 daily\n"
     ]
    }
   ],
   "source": [
    "import zoo as menagerie\n",
    "menagerie.hours()"
   ]
  },
  {
   "cell_type": "code",
   "execution_count": 28,
   "id": "b56d513f-8dfe-41f8-8970-3e17a1f5ae7a",
   "metadata": {},
   "outputs": [
    {
     "name": "stdout",
     "output_type": "stream",
     "text": [
      "books.db created successfully!\n",
      "Perdido Street Station\n",
      "Small Gods\n",
      "The Spellman Files\n",
      "The Weirdstone of Brisingamen\n",
      "Thud!\n"
     ]
    }
   ],
   "source": [
    "# 16.8 Creating books.db using the data from 16.3 and using sqlalchemy to connect to books.db and printing titles alphabetically\n",
    "# This needed some extra research for me, I had to look into how to create the books.db so I could import it with sqlalchemy. Once the database was setup i was able to display all the book titles in alphabetical order.\n",
    "\n",
    "import sqlite3\n",
    "\n",
    "# using 16.4\n",
    "\n",
    "conn = sqlite3.connect(\"books.db\")\n",
    "cur = conn.cursor()\n",
    "\n",
    "cur.execute(\"DROP TABLE IF EXISTS book\")\n",
    "cur.execute(\"\"\"\n",
    "    CREATE TABLE book (\n",
    "        title TEXT,\n",
    "        author TEXT,\n",
    "        year INTEGER\n",
    "    )\n",
    "            \"\"\")\n",
    "\n",
    "books = [\n",
    "    (\"The Weirdstone of Brisingamen\", \"Alan Garner\", 1960),\n",
    "    (\"Perdido Street Station\", \"China Miéville\", 2000),\n",
    "    (\"Thud!\", \"Terry Pratchett\", 2005),\n",
    "    (\"The Spellman Files\", \"Lisa Lutz\", 2007),\n",
    "    (\"Small Gods\", \"Terry Pratchett\", 1992)\n",
    "]\n",
    "\n",
    "cur.executemany(\"INSERT INTO book VALUES (?, ?, ?)\", books)\n",
    "conn.commit()\n",
    "conn.close()\n",
    "print(\"books.db created successfully!\")\n",
    "\n",
    "\n",
    "# main 16.8\n",
    "\n",
    "from sqlalchemy import create_engine, text\n",
    "\n",
    "engine = create_engine(\"sqlite:///books.db\")\n",
    "\n",
    "with engine.connect() as connection:\n",
    "    result = connection.execute(text(\"SELECT title FROM book ORDER BY title\"))\n",
    "    \n",
    "    for row in result:\n",
    "        print(row.title)\n"
   ]
  },
  {
   "cell_type": "code",
   "execution_count": null,
   "id": "92a348d4-57b0-45ee-a2b4-9b3591df1589",
   "metadata": {},
   "outputs": [],
   "source": []
  }
 ],
 "metadata": {
  "kernelspec": {
   "display_name": "Python [conda env:base] *",
   "language": "python",
   "name": "conda-base-py"
  },
  "language_info": {
   "codemirror_mode": {
    "name": "ipython",
    "version": 3
   },
   "file_extension": ".py",
   "mimetype": "text/x-python",
   "name": "python",
   "nbconvert_exporter": "python",
   "pygments_lexer": "ipython3",
   "version": "3.13.5"
  }
 },
 "nbformat": 4,
 "nbformat_minor": 5
}
